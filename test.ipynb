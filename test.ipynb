{
 "cells": [
  {
   "cell_type": "code",
   "execution_count": null,
   "id": "cb452d59",
   "metadata": {},
   "outputs": [],
   "source": [
    "import pandas as pd\n",
    "\n",
    "whole_df = pd.read_excel(\"test.xlsx\", sheet_name = \"분할\", dtype = str)\n",
    "\n",
    "whole_sheet_df = pd.read_excel(\"test.xlsx\", sheet_name = None, skiprows = 2, dtype = str)"
   ]
  },
  {
   "cell_type": "code",
   "execution_count": 22,
   "id": "776df50d",
   "metadata": {},
   "outputs": [
    {
     "name": "stdout",
     "output_type": "stream",
     "text": [
      "dict_keys(['Sheet1', '분할', '강원', '경기', '경남', '경북', '광주', '대구', '대전세종', '부산', '서울', '울산', '인천', '전남', '전북', '제주', '충남', '충북', 'test'])\n"
     ]
    }
   ],
   "source": [
    "print(whole_sheet_df.keys())"
   ]
  },
  {
   "cell_type": "code",
   "execution_count": 23,
   "id": "9f65e3cf",
   "metadata": {},
   "outputs": [],
   "source": [
    "del whole_sheet_df[\"Sheet1\"]\n",
    "del whole_sheet_df[\"분할\"]\n",
    "del whole_sheet_df[\"test\"]"
   ]
  },
  {
   "cell_type": "code",
   "execution_count": 24,
   "id": "97daba87",
   "metadata": {},
   "outputs": [
    {
     "name": "stdout",
     "output_type": "stream",
     "text": [
      "Index(['Unnamed: 0', '주주번호', '실질계좌번호', '주주명', '우편번호', '주주주소', '권리확정주식수'], dtype='object')\n",
      "Index(['Unnamed: 0', '주주번호', '실질계좌번호', '주주명', '우편번호', '주주주소', '권리확정주식수'], dtype='object')\n",
      "Index(['Unnamed: 0', '주주번호', '실질계좌번호', '주주명', '우편번호', '주주주소', '권리확정주식수'], dtype='object')\n",
      "Index(['Unnamed: 0', '주주번호', '실질계좌번호', '주주명', '우편번호', '주주주소', '권리확정주식수'], dtype='object')\n",
      "Index(['Unnamed: 0', '주주번호', '실질계좌번호', '주주명', '우편번호', '주주주소', '권리확정주식수'], dtype='object')\n",
      "Index(['Unnamed: 0', '주주번호', '실질계좌번호', '주주명', '우편번호', '주주주소', '권리확정주식수'], dtype='object')\n",
      "Index(['Unnamed: 0', '주주번호', '실질계좌번호', '주주명', '우편번호', '주주주소', '권리확정주식수'], dtype='object')\n",
      "Index(['Unnamed: 0', '주주번호', '실질계좌번호', '주주명', '우편번호', '주주주소', '권리확정주식수'], dtype='object')\n",
      "Index(['Unnamed: 0', '주주번호', '실질계좌번호', '주주명', '우편번호', '주주주소', '권리확정주식수'], dtype='object')\n",
      "Index(['Unnamed: 0', '주주번호', '실질계좌번호', '주주명', '우편번호', '주주주소', '권리확정주식수'], dtype='object')\n",
      "Index(['Unnamed: 0', '주주번호', '실질계좌번호', '주주명', '우편번호', '주주주소', '권리확정주식수'], dtype='object')\n",
      "Index(['Unnamed: 0', '주주번호', '실질계좌번호', '주주명', '우편번호', '주주주소', '권리확정주식수'], dtype='object')\n",
      "Index(['Unnamed: 0', '주주번호', '실질계좌번호', '주주명', '우편번호', '주주주소', '권리확정주식수'], dtype='object')\n",
      "Index(['Unnamed: 0', '주주번호', '실질계좌번호', '주주명', '우편번호', '주주주소', '권리확정주식수'], dtype='object')\n",
      "Index(['Unnamed: 0', '주주번호', '실질계좌번호', '주주명', '우편번호', '주주주소', '권리확정주식수'], dtype='object')\n",
      "Index(['Unnamed: 0', '주주번호', '실질계좌번호', '주주명', '우편번호', '주주주소', '권리확정주식수'], dtype='object')\n"
     ]
    }
   ],
   "source": [
    "for k, v in whole_sheet_df.items():\n",
    "    print(v.columns)"
   ]
  },
  {
   "cell_type": "code",
   "execution_count": 25,
   "id": "fcf480e5",
   "metadata": {},
   "outputs": [],
   "source": [
    "cleaned_sheets = []\n",
    "\n",
    "for sheet in whole_sheet_df.values():\n",
    "    sheet = sheet.loc[:, ~sheet.columns.str.contains('^Unnamed', na = False)]\n",
    "    if 'index' in sheet.columns:\n",
    "        sheet = sheet.drop(columns = 'index')\n",
    "\n",
    "    cleaned_sheets.append(sheet)"
   ]
  },
  {
   "cell_type": "code",
   "execution_count": 32,
   "id": "1949be92",
   "metadata": {},
   "outputs": [
    {
     "data": {
      "text/plain": [
       "Index(['주주번호', '실질계좌번호', '주주명', '우편번호', '주주주소', '권리확정주식수'], dtype='object')"
      ]
     },
     "execution_count": 32,
     "metadata": {},
     "output_type": "execute_result"
    }
   ],
   "source": [
    "df_merged = pd.concat(whole_sheet_df.values(), axis = 0, ignore_index = True)\n",
    "df_merged.drop(columns = \"Unnamed: 0\", inplace = True)\n",
    "df_merged.columns\n",
    "\n",
    "\n",
    "# with pd.ExcelWriter(\"test.xlsx\", engine = \"openpyxl\", mode = \"a\", if_sheet_exists = 'replace') as writer:\n",
    "#     df_merged.to_excel(writer, sheet_name = \"test\", index = False)\n",
    "    "
   ]
  },
  {
   "cell_type": "code",
   "execution_count": 33,
   "id": "56b27b86",
   "metadata": {},
   "outputs": [
    {
     "name": "stdout",
     "output_type": "stream",
     "text": [
      "Index(['주주번호', '실질계좌번호', '주주명', '우편번호', '주주주소', '권리확정주식수'], dtype='object') Index(['주주번호', '실질계좌번호', '주주명', '우편번호', '주주주소', '권리확정주식수'], dtype='object')\n"
     ]
    }
   ],
   "source": [
    "print(whole_df.columns, df_merged.columns)"
   ]
  },
  {
   "cell_type": "code",
   "execution_count": null,
   "id": "9d447643",
   "metadata": {},
   "outputs": [],
   "source": []
  }
 ],
 "metadata": {
  "kernelspec": {
   "display_name": "Python 3",
   "language": "python",
   "name": "python3"
  },
  "language_info": {
   "codemirror_mode": {
    "name": "ipython",
    "version": 3
   },
   "file_extension": ".py",
   "mimetype": "text/x-python",
   "name": "python",
   "nbconvert_exporter": "python",
   "pygments_lexer": "ipython3",
   "version": "3.13.1"
  }
 },
 "nbformat": 4,
 "nbformat_minor": 5
}
