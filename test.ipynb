{
 "cells": [
  {
   "cell_type": "code",
   "execution_count": 26,
   "id": "09c96a11",
   "metadata": {},
   "outputs": [],
   "source": [
    "import pandas as pd\n",
    "share_num = \"총소유주식수\""
   ]
  },
  {
   "cell_type": "code",
   "execution_count": 27,
   "id": "968842a3",
   "metadata": {},
   "outputs": [
    {
     "name": "stdout",
     "output_type": "stream",
     "text": [
      "<class 'pandas.core.frame.DataFrame'>\n",
      "RangeIndex: 2552 entries, 0 to 2551\n",
      "Data columns (total 6 columns):\n",
      " #   Column  Non-Null Count  Dtype \n",
      "---  ------  --------------  ----- \n",
      " 0   주주명     2552 non-null   object\n",
      " 1   실명번호    2552 non-null   object\n",
      " 2   주소      2552 non-null   object\n",
      " 3   총소유주식수  2552 non-null   int64 \n",
      " 4   성향      2552 non-null   object\n",
      " 5   전화번호    2552 non-null   object\n",
      "dtypes: int64(1), object(5)\n",
      "memory usage: 119.8+ KB\n"
     ]
    }
   ],
   "source": [
    "whole_df = pd.read_excel(\"test_1.xlsx\", sheet_name = \"분할\", dtype = str)\n",
    "whole_df[share_num] = whole_df[share_num].astype(int)\n",
    "whole_df.info()"
   ]
  },
  {
   "cell_type": "code",
   "execution_count": 28,
   "id": "cac10e6f",
   "metadata": {},
   "outputs": [
    {
     "data": {
      "text/plain": [
       "dict_keys(['위임 구분 ', '분할', '강원', '경기', '경남', '경북', '광주', '대구', '대전세종', '부산', '서울', '울산', '인천', '전남', '전북', '제주', '충남', '충북', '부산1', '부산2-서구수영구연제구영도구중구해운대구'])"
      ]
     },
     "execution_count": 28,
     "metadata": {},
     "output_type": "execute_result"
    }
   ],
   "source": [
    "sheets_df = pd.read_excel(\"test_1.xlsx\", sheet_name = None, dtype = str, skiprows = 2)\n",
    "sheets_df.keys()"
   ]
  },
  {
   "cell_type": "code",
   "execution_count": 29,
   "id": "3a2c5e9e",
   "metadata": {},
   "outputs": [],
   "source": [
    "del sheets_df[\"위임 구분 \"]\n",
    "del sheets_df[\"분할\"]"
   ]
  },
  {
   "cell_type": "code",
   "execution_count": 30,
   "id": "e511b130",
   "metadata": {},
   "outputs": [
    {
     "data": {
      "text/plain": [
       "dict_keys(['강원', '경기', '경남', '경북', '광주', '대구', '대전세종', '부산', '서울', '울산', '인천', '전남', '전북', '제주', '충남', '충북', '부산1', '부산2-서구수영구연제구영도구중구해운대구'])"
      ]
     },
     "execution_count": 30,
     "metadata": {},
     "output_type": "execute_result"
    }
   ],
   "source": [
    "sheets_df.keys()"
   ]
  },
  {
   "cell_type": "code",
   "execution_count": 31,
   "id": "9831e91c",
   "metadata": {},
   "outputs": [
    {
     "data": {
      "text/plain": [
       "['강원',\n",
       " '경기',\n",
       " '경남',\n",
       " '경북',\n",
       " '광주',\n",
       " '대구',\n",
       " '대전세종',\n",
       " '부산',\n",
       " '서울',\n",
       " '울산',\n",
       " '인천',\n",
       " '전남',\n",
       " '전북',\n",
       " '제주',\n",
       " '충남',\n",
       " '충북',\n",
       " '부산1',\n",
       " '부산2-서구수영구연제구영도구중구해운대구']"
      ]
     },
     "execution_count": 31,
     "metadata": {},
     "output_type": "execute_result"
    }
   ],
   "source": [
    "sheet_names = list(sheets_df.keys())\n",
    "sheet_names"
   ]
  },
  {
   "cell_type": "code",
   "execution_count": 32,
   "id": "96ff354a",
   "metadata": {},
   "outputs": [],
   "source": [
    "summary_rows = []\n",
    "\n",
    "summary_rows.append({\n",
    "    \"지역\" : \"분할\",\n",
    "    \"인원수\" : whole_df[share_num].count(),\n",
    "    \"주식수\" : whole_df[share_num].sum()\n",
    "})\n",
    "\n",
    "for sheet_name in sorted(sheet_names):\n",
    "    df = sheets_df[sheet_name]\n",
    "    df[share_num] = df[share_num].astype(int)\n",
    "    summary_rows.append({\n",
    "        \"지역\" : sheet_name,\n",
    "        \"인원수\" : df[share_num].count(),\n",
    "        \"주식수\" : df[share_num].sum(),\n",
    "    })\n",
    "\n",
    "result_df = pd.DataFrame(summary_rows)"
   ]
  },
  {
   "cell_type": "code",
   "execution_count": 33,
   "id": "e70054d5",
   "metadata": {},
   "outputs": [],
   "source": [
    "with pd.ExcelWriter(\"updated_\" + \"test_1.xlsx\", engine = \"openpyxl\", mode = 'w') as writer:\n",
    "    result_df.to_excel(writer, sheet_name = \"지역별 인원수 및 주식수 합계\", index = False)"
   ]
  }
 ],
 "metadata": {
  "kernelspec": {
   "display_name": "Python 3",
   "language": "python",
   "name": "python3"
  },
  "language_info": {
   "codemirror_mode": {
    "name": "ipython",
    "version": 3
   },
   "file_extension": ".py",
   "mimetype": "text/x-python",
   "name": "python",
   "nbconvert_exporter": "python",
   "pygments_lexer": "ipython3",
   "version": "3.13.1"
  }
 },
 "nbformat": 4,
 "nbformat_minor": 5
}
