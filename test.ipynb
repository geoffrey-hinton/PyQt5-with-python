{
 "cells": [
  {
   "cell_type": "code",
   "execution_count": 41,
   "id": "cb452d59",
   "metadata": {},
   "outputs": [],
   "source": [
    "import pandas as pd\n",
    "\n",
    "whole_df = pd.read_excel(\"test.xlsx\", sheet_name = \"분할\", dtype = str)\n",
    "\n",
    "whole_sheet_df = pd.read_excel(\"test.xlsx\", sheet_name = None, skiprows = 2, dtype = str)"
   ]
  },
  {
   "cell_type": "code",
   "execution_count": 42,
   "id": "f2335a8b",
   "metadata": {},
   "outputs": [
    {
     "name": "stdout",
     "output_type": "stream",
     "text": [
      "            주주번호                         실질계좌번호  주주명    우편번호  \\\n",
      "0  7902121463012  00001200000200100030001759508  임연식  31171    \n",
      "\n",
      "                                                주주주소 권리확정주식수  \n",
      "0  충청남도 천안시 서북구 월봉4로 140-14, 206동504호 (쌍용동, 월봉벽산태...  567619  \n"
     ]
    }
   ],
   "source": [
    "print(whole_df.head(1))"
   ]
  },
  {
   "cell_type": "code",
   "execution_count": 43,
   "id": "cbaad937",
   "metadata": {},
   "outputs": [
    {
     "name": "stdout",
     "output_type": "stream",
     "text": [
      "<class 'pandas.core.frame.DataFrame'>\n",
      "RangeIndex: 1310 entries, 0 to 1309\n",
      "Data columns (total 6 columns):\n",
      " #   Column   Non-Null Count  Dtype \n",
      "---  ------   --------------  ----- \n",
      " 0   주주번호     1310 non-null   object\n",
      " 1   실질계좌번호   1310 non-null   object\n",
      " 2   주주명      1310 non-null   object\n",
      " 3   우편번호     1310 non-null   object\n",
      " 4   주주주소     1310 non-null   object\n",
      " 5   권리확정주식수  1310 non-null   object\n",
      "dtypes: object(6)\n",
      "memory usage: 61.5+ KB\n"
     ]
    }
   ],
   "source": [
    "whole_df.info()"
   ]
  },
  {
   "cell_type": "code",
   "execution_count": 44,
   "id": "776df50d",
   "metadata": {},
   "outputs": [
    {
     "name": "stdout",
     "output_type": "stream",
     "text": [
      "dict_keys(['Sheet1', '분할', '강원', '경기', '경남', '경북', '광주', '대구', '대전세종', '부산', '서울', '울산', '인천', '전남', '전북', '제주', '충남', '충북', 'test'])\n"
     ]
    }
   ],
   "source": [
    "print(whole_sheet_df.keys())"
   ]
  },
  {
   "cell_type": "code",
   "execution_count": 45,
   "id": "9f65e3cf",
   "metadata": {},
   "outputs": [],
   "source": [
    "del whole_sheet_df[\"Sheet1\"]\n",
    "del whole_sheet_df[\"분할\"]\n",
    "del whole_sheet_df[\"test\"]"
   ]
  },
  {
   "cell_type": "code",
   "execution_count": 46,
   "id": "97daba87",
   "metadata": {},
   "outputs": [
    {
     "name": "stdout",
     "output_type": "stream",
     "text": [
      "Index(['Unnamed: 0', '주주번호', '실질계좌번호', '주주명', '우편번호', '주주주소', '권리확정주식수'], dtype='object')\n",
      "Index(['Unnamed: 0', '주주번호', '실질계좌번호', '주주명', '우편번호', '주주주소', '권리확정주식수'], dtype='object')\n",
      "Index(['Unnamed: 0', '주주번호', '실질계좌번호', '주주명', '우편번호', '주주주소', '권리확정주식수'], dtype='object')\n",
      "Index(['Unnamed: 0', '주주번호', '실질계좌번호', '주주명', '우편번호', '주주주소', '권리확정주식수'], dtype='object')\n",
      "Index(['Unnamed: 0', '주주번호', '실질계좌번호', '주주명', '우편번호', '주주주소', '권리확정주식수'], dtype='object')\n",
      "Index(['Unnamed: 0', '주주번호', '실질계좌번호', '주주명', '우편번호', '주주주소', '권리확정주식수'], dtype='object')\n",
      "Index(['Unnamed: 0', '주주번호', '실질계좌번호', '주주명', '우편번호', '주주주소', '권리확정주식수'], dtype='object')\n",
      "Index(['Unnamed: 0', '주주번호', '실질계좌번호', '주주명', '우편번호', '주주주소', '권리확정주식수'], dtype='object')\n",
      "Index(['Unnamed: 0', '주주번호', '실질계좌번호', '주주명', '우편번호', '주주주소', '권리확정주식수'], dtype='object')\n",
      "Index(['Unnamed: 0', '주주번호', '실질계좌번호', '주주명', '우편번호', '주주주소', '권리확정주식수'], dtype='object')\n",
      "Index(['Unnamed: 0', '주주번호', '실질계좌번호', '주주명', '우편번호', '주주주소', '권리확정주식수'], dtype='object')\n",
      "Index(['Unnamed: 0', '주주번호', '실질계좌번호', '주주명', '우편번호', '주주주소', '권리확정주식수'], dtype='object')\n",
      "Index(['Unnamed: 0', '주주번호', '실질계좌번호', '주주명', '우편번호', '주주주소', '권리확정주식수'], dtype='object')\n",
      "Index(['Unnamed: 0', '주주번호', '실질계좌번호', '주주명', '우편번호', '주주주소', '권리확정주식수'], dtype='object')\n",
      "Index(['Unnamed: 0', '주주번호', '실질계좌번호', '주주명', '우편번호', '주주주소', '권리확정주식수'], dtype='object')\n",
      "Index(['Unnamed: 0', '주주번호', '실질계좌번호', '주주명', '우편번호', '주주주소', '권리확정주식수'], dtype='object')\n"
     ]
    }
   ],
   "source": [
    "for k, v in whole_sheet_df.items():\n",
    "    print(v.columns)"
   ]
  },
  {
   "cell_type": "code",
   "execution_count": 6,
   "id": "fcf480e5",
   "metadata": {},
   "outputs": [],
   "source": [
    "cleaned_sheets = []\n",
    "\n",
    "for sheet in whole_sheet_df.values():\n",
    "    sheet = sheet.loc[:, ~sheet.columns.str.contains('^Unnamed', na = False)]\n",
    "    if 'index' in sheet.columns:\n",
    "        sheet = sheet.drop(columns = 'index')\n",
    "\n",
    "    cleaned_sheets.append(sheet)"
   ]
  },
  {
   "cell_type": "code",
   "execution_count": null,
   "id": "1949be92",
   "metadata": {},
   "outputs": [
    {
     "data": {
      "text/plain": [
       "Index(['주주번호', '실질계좌번호', '주주명', '우편번호', '주주주소', '권리확정주식수'], dtype='object')"
      ]
     },
     "execution_count": 47,
     "metadata": {},
     "output_type": "execute_result"
    }
   ],
   "source": [
    "df_merged = pd.concat(whole_sheet_df.values(), axis = 0, ignore_index = True)\n",
    "# df_merged.drop(columns = \"Unnamed: 0\", inplace = True)\n",
    "df_merged.columns\n",
    "\n",
    "\n",
    "# with pd.ExcelWriter(\"test.xlsx\", engine = \"openpyxl\", mode = \"a\", if_sheet_exists = 'replace') as writer:\n",
    "#     df_merged.to_excel(writer, sheet_name = \"test\", index = False)\n",
    "    "
   ]
  },
  {
   "cell_type": "code",
   "execution_count": 48,
   "id": "56b27b86",
   "metadata": {},
   "outputs": [
    {
     "name": "stdout",
     "output_type": "stream",
     "text": [
      "Index(['주주번호', '실질계좌번호', '주주명', '우편번호', '주주주소', '권리확정주식수'], dtype='object') Index(['주주번호', '실질계좌번호', '주주명', '우편번호', '주주주소', '권리확정주식수'], dtype='object')\n"
     ]
    }
   ],
   "source": [
    "print(whole_df.columns, df_merged.columns)"
   ]
  },
  {
   "cell_type": "code",
   "execution_count": 49,
   "id": "9d447643",
   "metadata": {},
   "outputs": [],
   "source": [
    "test_li = whole_df.columns.to_list()"
   ]
  },
  {
   "cell_type": "code",
   "execution_count": 50,
   "id": "c503c1a7",
   "metadata": {},
   "outputs": [
    {
     "data": {
      "text/plain": [
       "list"
      ]
     },
     "execution_count": 50,
     "metadata": {},
     "output_type": "execute_result"
    }
   ],
   "source": [
    "type(test_li)"
   ]
  },
  {
   "cell_type": "code",
   "execution_count": 51,
   "id": "5cfabbbe",
   "metadata": {},
   "outputs": [
    {
     "data": {
      "text/html": [
       "<div>\n",
       "<style scoped>\n",
       "    .dataframe tbody tr th:only-of-type {\n",
       "        vertical-align: middle;\n",
       "    }\n",
       "\n",
       "    .dataframe tbody tr th {\n",
       "        vertical-align: top;\n",
       "    }\n",
       "\n",
       "    .dataframe thead th {\n",
       "        text-align: right;\n",
       "    }\n",
       "</style>\n",
       "<table border=\"1\" class=\"dataframe\">\n",
       "  <thead>\n",
       "    <tr style=\"text-align: right;\">\n",
       "      <th></th>\n",
       "      <th>주주번호</th>\n",
       "      <th>실질계좌번호</th>\n",
       "      <th>주주명</th>\n",
       "      <th>우편번호</th>\n",
       "      <th>주주주소</th>\n",
       "      <th>권리확정주식수</th>\n",
       "    </tr>\n",
       "  </thead>\n",
       "  <tbody>\n",
       "    <tr>\n",
       "      <th>0</th>\n",
       "      <td>7902121463012</td>\n",
       "      <td>00001200000200100030001759508</td>\n",
       "      <td>임연식</td>\n",
       "      <td>31171</td>\n",
       "      <td>충청남도 천안시 서북구 월봉4로 140-14, 206동504호 (쌍용동, 월봉벽산태...</td>\n",
       "      <td>567619</td>\n",
       "    </tr>\n",
       "  </tbody>\n",
       "</table>\n",
       "</div>"
      ],
      "text/plain": [
       "            주주번호                         실질계좌번호  주주명    우편번호  \\\n",
       "0  7902121463012  00001200000200100030001759508  임연식  31171    \n",
       "\n",
       "                                                주주주소 권리확정주식수  \n",
       "0  충청남도 천안시 서북구 월봉4로 140-14, 206동504호 (쌍용동, 월봉벽산태...  567619  "
      ]
     },
     "execution_count": 51,
     "metadata": {},
     "output_type": "execute_result"
    }
   ],
   "source": [
    "whole_df.head(1)"
   ]
  },
  {
   "cell_type": "code",
   "execution_count": null,
   "id": "6d32105e",
   "metadata": {},
   "outputs": [],
   "source": []
  },
  {
   "cell_type": "code",
   "execution_count": 52,
   "id": "43822563",
   "metadata": {},
   "outputs": [],
   "source": [
    "merged_df = whole_df.merge(df_merged, how = \"outer\", on = test_li, indicator = True)\n",
    "df_omission = merged_df[merged_df[\"_merge\"] == \"left_only\"].drop(columns = ['_merge'])\n",
    "df_dup = merged_df[merged_df[\"_merge\"] == \"right_only\"].drop(columns = [\"_merge\"])"
   ]
  },
  {
   "cell_type": "code",
   "execution_count": 53,
   "id": "b449d280",
   "metadata": {},
   "outputs": [
    {
     "name": "stdout",
     "output_type": "stream",
     "text": [
      "Empty DataFrame\n",
      "Columns: [주주번호, 실질계좌번호, 주주명, 우편번호, 주주주소, 권리확정주식수]\n",
      "Index: []\n",
      "Empty DataFrame\n",
      "Columns: [주주번호, 실질계좌번호, 주주명, 우편번호, 주주주소, 권리확정주식수]\n",
      "Index: []\n"
     ]
    }
   ],
   "source": [
    "print(df_omission.head(2))\n",
    "print(df_dup.head(2))"
   ]
  },
  {
   "cell_type": "code",
   "execution_count": 20,
   "id": "7f1615a8",
   "metadata": {},
   "outputs": [
    {
     "name": "stdout",
     "output_type": "stream",
     "text": [
      "     주주번호 실질계좌번호                                                주주명 우편번호  \\\n",
      "1310  NaN    NaN                                            (주)진안산업  NaN   \n",
      "1311  NaN    NaN  ACADIAN EMERGING MARKETS MICRO-CAP EQUITY MAST...  NaN   \n",
      "1312  NaN    NaN                BARCLAYS CAPITAL SECURITIES LIMITED  NaN   \n",
      "1313  NaN    NaN              CITADEL SECURITIES KOREA PTE. LIMITED  NaN   \n",
      "1314  NaN    NaN                            IMC PACIFIC PTY LTD_ELW  NaN   \n",
      "...   ...    ...                                                ...  ...   \n",
      "2615  NaN    NaN                                                황의연  NaN   \n",
      "2616  NaN    NaN                                                황인영  NaN   \n",
      "2617  NaN    NaN                                                황재영  NaN   \n",
      "2618  NaN    NaN                                                황혜영  NaN   \n",
      "2619  NaN    NaN                                                황희웅  NaN   \n",
      "\n",
      "                                                   주주주소 권리확정주식수  \n",
      "1310                 대전 유성구 갑동로 49,103-101 (갑동, 엘리시움캐슬)   30000  \n",
      "1311                              서울특별시중구칠패로37  HSBC빌딩　   62296  \n",
      "1312  서울 종로구 (Standard Chartered Bank Korea, 47 Jong...   37937  \n",
      "1313                          서울특별시 종로구 새문안로 50 (신문로2가)  147218  \n",
      "1314  서울 영등포구 여의대로 70, 8층  신한금융투자빌딩 업무지원부 (여의도동, 신한금...   23586  \n",
      "...                                                 ...     ...  \n",
      "2615                            강원 원주시 금불4길 5, 3층 (단계동)    9453  \n",
      "2616               경남 김해시 인제로 167, (대우유토피아아파트) 101동704호    5423  \n",
      "2617       서울특별시 성북구 인촌로 112, 401호 (안암동5가,서울ENM선교회 황재영)   16473  \n",
      "2618           서울 강남구 학동로44길 36 202동 402호(논현동,논현1차아펠바옴)   36000  \n",
      "2619  전북 전주시 완산구 화산천변로 50, 108동 302호 (중화산동2가, 현대에코르아파트)   15169  \n",
      "\n",
      "[1310 rows x 6 columns]                주주번호                         실질계좌번호  \\\n",
      "0     0000000000553  00150000000200001000000000553   \n",
      "1     0000000020366  00000200000200155110217584810   \n",
      "2     0000000050177  00152000000200001002890390421   \n",
      "3     0000000051236  00148000000200001000000051236   \n",
      "4     0001043162415  00005000000200101000061177499   \n",
      "...             ...                            ...   \n",
      "1305  9611281482110  00005000000200096000052126670   \n",
      "1306  9705162403617  00001200000200100020201406421   \n",
      "1307  9708162203716  00001700000200365032596703401   \n",
      "1308  9708272497133  00001700000200089026533530501   \n",
      "1309  9906241727719  00001200000200097020401865073   \n",
      "\n",
      "                                                    주주명    우편번호  \\\n",
      "0                   BARCLAYS CAPITAL SECURITIES LIMITED  03159    \n",
      "1                               IMC PACIFIC PTY LTD_ELW  07325    \n",
      "2     ACADIAN EMERGING MARKETS MICRO-CAP EQUITY MAST...  04511    \n",
      "3                 CITADEL SECURITIES KOREA PTE. LIMITED  04521    \n",
      "4                                                   이준호  18111    \n",
      "...                                                 ...     ...   \n",
      "1305                                                전운찬  54902    \n",
      "1306                                                변혜진  35297    \n",
      "1307                                                양승아  05710    \n",
      "1308                                                이현지  54665    \n",
      "1309                                                신현우  39440    \n",
      "\n",
      "                                                   주주주소 권리확정주식수  \n",
      "0     서울 종로구 (Standard Chartered Bank Korea, 47 Jong...   37937  \n",
      "1     서울 영등포구 여의대로 70, 8층  신한금융투자빌딩 업무지원부 (여의도동, 신한금...   23586  \n",
      "2                                 서울특별시중구칠패로37  HSBC빌딩　   62296  \n",
      "3                             서울특별시 종로구 새문안로 50 (신문로2가)  147218  \n",
      "4     [18111] 경기도 오산시 문시로 183-19, 115동 402호 (외삼미동,서동...   12383  \n",
      "...                                                 ...     ...  \n",
      "1305  전라북도 전주시 덕진구 호성로 170, 314동 304호 (호성동2가,진흥더블파크3...   10070  \n",
      "1306        대전광역시 서구 가장로 106, 113동904호 (가장동, 삼성 래미안아파트)    6367  \n",
      "1307          서울 송파구 송파대로32길 15,106동 2203호(가락동,가락금호아파트)    5000  \n",
      "1308       전북 익산시 배산로 39 - 6,201동 1506호(송학동,송학동리젠시빌아파트)    6000  \n",
      "1309           경상북도 구미시 인동31길 33, 별님동 201호 (인의동, 삼보그린빌)   29570  \n",
      "\n",
      "[1310 rows x 6 columns]\n"
     ]
    }
   ],
   "source": [
    "print(df_omission, df_dup)"
   ]
  },
  {
   "cell_type": "code",
   "execution_count": 58,
   "id": "eed56803",
   "metadata": {},
   "outputs": [
    {
     "name": "stdout",
     "output_type": "stream",
     "text": [
      "0\n",
      "<class 'int'>\n"
     ]
    }
   ],
   "source": [
    "print(df_dup.shape[0])\n",
    "print(type(df_omission.shape[0]))"
   ]
  },
  {
   "cell_type": "code",
   "execution_count": 59,
   "id": "806bf71f",
   "metadata": {},
   "outputs": [
    {
     "name": "stdout",
     "output_type": "stream",
     "text": [
      "(1310, 6)\n"
     ]
    }
   ],
   "source": [
    "print(whole_df.shape)"
   ]
  }
 ],
 "metadata": {
  "kernelspec": {
   "display_name": "Python 3",
   "language": "python",
   "name": "python3"
  },
  "language_info": {
   "codemirror_mode": {
    "name": "ipython",
    "version": 3
   },
   "file_extension": ".py",
   "mimetype": "text/x-python",
   "name": "python",
   "nbconvert_exporter": "python",
   "pygments_lexer": "ipython3",
   "version": "3.13.1"
  }
 },
 "nbformat": 4,
 "nbformat_minor": 5
}
